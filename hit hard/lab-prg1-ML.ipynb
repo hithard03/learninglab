{
 "cells": [
  {
   "cell_type": "code",
   "execution_count": 1,
   "metadata": {},
   "outputs": [
    {
     "name": "stdout",
     "output_type": "stream",
     "text": [
      "<_csv.reader object at 0x000002E1408664C0>\n",
      "\n",
      "The given training examples are:\n",
      "['sky', 'airtemp', 'humidity', 'wind', 'water', 'forcast', 'enjoysport']\n",
      "['sunny', 'warm', 'normal', 'strong', 'warm', 'same', 'yes']\n",
      "['sunny', 'warm', 'high', 'strong', 'warm', 'same', 'yes']\n",
      "['rainy', 'cold', 'high', 'strong', 'warm', 'change', 'no']\n",
      "['sunny', 'warm', 'high', 'strong', 'cool', 'change', 'yes']\n",
      "\n",
      "The positive examples are:\n",
      "['sunny', 'warm', 'normal', 'strong', 'warm', 'same', 'yes']\n",
      "['sunny', 'warm', 'high', 'strong', 'warm', 'same', 'yes']\n",
      "['sunny', 'warm', 'high', 'strong', 'cool', 'change', 'yes']\n",
      "\n",
      "\n",
      "The steps of the Find-s algorithm are\n",
      " ['%', '%', '%', '%', '%', '%']\n",
      "['sunny', 'warm', 'normal', 'strong', 'warm', 'same']\n",
      "['sunny', 'warm', '?', 'strong', 'warm', 'same']\n",
      "['sunny', 'warm', '?', 'strong', '?', '?']\n",
      "\n",
      "The maximally specific Find-s hypothesis for the given training examples is\n",
      "['sunny', 'warm', '?', 'strong', '?', '?']\n"
     ]
    }
   ],
   "source": [
    "import csv\n",
    "#!usr/bin/python\n",
    "#list creatin\n",
    "hypo=['%','%','%','%','%','%'];\n",
    "\n",
    "with open(r\"D:\\AIML-RNSIT\\EVEN-SEM-23-24\\ML-2023-24 EVEN-2021SCHEME\\21AIL66-LAB-PGM\\PGM1\\enjoysport.csv\") as csv_file:\n",
    "\treadcsv = csv.reader(csv_file, delimiter=',')\n",
    "\tprint(readcsv)\n",
    "\tdata = []\n",
    "\tprint(\"\\nThe given training examples are:\")\t\n",
    "\tfor row in readcsv:\t\t\n",
    "\t\tprint(row)\n",
    "\t\tif row[len(row)-1].upper() == \"YES\":\n",
    "\t\t\tdata.append(row)\n",
    "\t\t\t\n",
    "print(\"\\nThe positive examples are:\");\n",
    "for x in data:\n",
    "\tprint(x);\n",
    "print(\"\\n\");\n",
    "\n",
    "TotalExamples = len(data);\n",
    "i=0;\n",
    "j=0;\n",
    "k=0;\n",
    "print(\"The steps of the Find-s algorithm are\\n\",hypo);\n",
    "list = [];\n",
    "p=0;\n",
    "d=len(data[p])-1;\n",
    "for j in range(d):\t\n",
    "\tlist.append(data[i][j]);\n",
    "hypo=list;\n",
    "i=1;\n",
    "for i in range(TotalExamples):\t\n",
    "\tfor k in range(d):\n",
    "\t\tif hypo[k]!=data[i][k]:\n",
    "\t\t\thypo[k]='?';\n",
    "\t\t\tk=k+1;\n",
    "\t\t\n",
    "\t\telse:\n",
    "\t\t\thypo[k];\n",
    "\tprint(hypo);\n",
    "i=i+1;\n",
    "\n",
    "\n",
    "print(\"\\nThe maximally specific Find-s hypothesis for the given training examples is\");\n",
    "list=[];\n",
    "for i in range(d):\n",
    "\tlist.append(hypo[i]);\n",
    "print(list);\n"
   ]
  },
  {
   "cell_type": "code",
   "execution_count": null,
   "metadata": {},
   "outputs": [],
   "source": []
  }
 ],
 "metadata": {
  "kernelspec": {
   "display_name": "Python 3",
   "language": "python",
   "name": "python3"
  },
  "language_info": {
   "codemirror_mode": {
    "name": "ipython",
    "version": 3
   },
   "file_extension": ".py",
   "mimetype": "text/x-python",
   "name": "python",
   "nbconvert_exporter": "python",
   "pygments_lexer": "ipython3",
   "version": "3.8.5"
  }
 },
 "nbformat": 4,
 "nbformat_minor": 4
}
