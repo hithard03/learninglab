{
 "cells": [
  {
   "cell_type": "code",
   "execution_count": 1,
   "metadata": {},
   "outputs": [
    {
     "name": "stdout",
     "output_type": "stream",
     "text": [
      "Predictions:\n",
      "[[0.04595993]\n",
      " [0.96290581]\n",
      " [0.94572213]\n",
      " [0.05004859]]\n"
     ]
    }
   ],
   "source": [
    "import numpy as np\n",
    "\n",
    "class NeuralNetwork:\n",
    "    def __init__(self, input_size, hidden_size, output_size, learning_rate):\n",
    "        self.input_size = input_size\n",
    "        self.hidden_size = hidden_size\n",
    "        self.output_size = output_size\n",
    "        self.learning_rate = learning_rate\n",
    "\n",
    "        # Initialize weights and biases\n",
    "        self.weights_input_hidden = np.random.randn(self.input_size, self.hidden_size)\n",
    "        self.bias_input_hidden = np.random.randn(1, self.hidden_size)\n",
    "        self.weights_hidden_output = np.random.randn(self.hidden_size, self.output_size)\n",
    "        self.bias_hidden_output = np.random.randn(1, self.output_size)\n",
    "\n",
    "    def sigmoid(self, x):\n",
    "        return 1 / (1 + np.exp(-x))\n",
    "\n",
    "    def sigmoid_derivative(self, x):\n",
    "        return x * (1 - x)\n",
    "\n",
    "    def forward(self, inputs):\n",
    "        # Forward pass\n",
    "        self.hidden_output = self.sigmoid(np.dot(inputs, self.weights_input_hidden) + self.bias_input_hidden)\n",
    "        self.output = self.sigmoid(np.dot(self.hidden_output, self.weights_hidden_output) + self.bias_hidden_output)\n",
    "\n",
    "    def backward(self, inputs, targets):\n",
    "        # Backward pass\n",
    "        output_error = targets - self.output\n",
    "        output_delta = output_error * self.sigmoid_derivative(self.output)\n",
    "\n",
    "        hidden_error = output_delta.dot(self.weights_hidden_output.T)\n",
    "        hidden_delta = hidden_error * self.sigmoid_derivative(self.hidden_output)\n",
    "\n",
    "        # Update weights and biases\n",
    "        self.weights_hidden_output += self.hidden_output.T.dot(output_delta) * self.learning_rate\n",
    "        self.bias_hidden_output += np.sum(output_delta, axis=0, keepdims=True) * self.learning_rate\n",
    "        self.weights_input_hidden += inputs.T.dot(hidden_delta) * self.learning_rate\n",
    "        self.bias_input_hidden += np.sum(hidden_delta, axis=0, keepdims=True) * self.learning_rate\n",
    "\n",
    "    def train(self, inputs, targets, epochs):\n",
    "        for epoch in range(epochs):\n",
    "            # Forward pass\n",
    "            self.forward(inputs)\n",
    "            # Backward pass\n",
    "            self.backward(inputs, targets)\n",
    "\n",
    "    def predict(self, inputs):\n",
    "        # Forward pass to predict\n",
    "        self.forward(inputs)\n",
    "        return self.output\n",
    "\n",
    "# Example usage:\n",
    "# Define dataset\n",
    "inputs = np.array([[0, 0], [0, 1], [1, 0], [1, 1]])\n",
    "targets = np.array([[0], [1], [1], [0]])\n",
    "\n",
    "# Initialize neural network\n",
    "input_size = 2\n",
    "hidden_size = 3\n",
    "output_size = 1\n",
    "learning_rate = 0.1\n",
    "epochs = 10000\n",
    "nn = NeuralNetwork(input_size, hidden_size, output_size, learning_rate)\n",
    "\n",
    "# Train the neural network\n",
    "nn.train(inputs, targets, epochs)\n",
    "\n",
    "# Predict\n",
    "predictions = nn.predict(inputs)\n",
    "print(\"Predictions:\")\n",
    "print(predictions)\n"
   ]
  },
  {
   "cell_type": "code",
   "execution_count": null,
   "metadata": {},
   "outputs": [],
   "source": []
  }
 ],
 "metadata": {
  "kernelspec": {
   "display_name": "Python 3",
   "language": "python",
   "name": "python3"
  },
  "language_info": {
   "codemirror_mode": {
    "name": "ipython",
    "version": 3
   },
   "file_extension": ".py",
   "mimetype": "text/x-python",
   "name": "python",
   "nbconvert_exporter": "python",
   "pygments_lexer": "ipython3",
   "version": "3.8.5"
  }
 },
 "nbformat": 4,
 "nbformat_minor": 4
}
